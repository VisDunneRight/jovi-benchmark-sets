{
  "cells": [
    {
      "cell_type": "markdown",
      "metadata": {},
      "source": [
        "## Data collection methodology\n",
        "\n",
        "The information we collected is a by-product of a larger systematic review we conducted related to graph layout algorithms, which included 206 papers---the core of them being the last 7 years of Graph Drawing proceedings, filtering out the papers with no computational evaluations.\n",
        "We further expanded our collection of graph layout algorithm papers through IEEE search, and the ACM and Wiley digital libraries, to include papers from TVCG and CGF.\n",
        "For every paper, we collected which features were handled by the graph layout algorithm presented, and what dataset was used in the evaluation. \n",
        "In order to find the datasets, we first tried looking for the paper's supplemental material, then tried Googling the name of the dataset or the name of the paper, and if we had not been able to find anything yet, we resorted to emailing the authors. \n",
        "When in doubt about the artifact replication policy, we emailed the owners or authors to ask about it. \n",
        "In cases where it was explicitly mentioned that approval should be received prior to redistribution, we did not redistribute the datasets. However, when we did not receive an answer or where it was not explicitly stated, we did collect and store the dataset on our own storage solution to preserve it. \n",
        "If any owner or author of a dataset discovers their own work linked in our collection and disagrees with this choice, we kindly request them to contact us, and we will promptly remove the entry. Furthermore, we want to emphasize that we do not assert any ownership rights over the datasets listed.\n",
        "\n",
        "- talk about how the graph feature labels were collected\n",
        "- facilitating comparisons and replication of results <- justification for what we did\n",
        "- linking to specific papers that use that dataset - not seen in other network repositories!  \n"
      ],
      "id": "852c0feb"
    },
    {
      "cell_type": "code",
      "metadata": {},
      "source": [
        "#| output: false\n",
        "#| echo: false\n",
        "# show literature data column names\n",
        "literature_data.columns"
      ],
      "id": "b6d3ff54",
      "execution_count": null,
      "outputs": []
    },
    {
      "cell_type": "code",
      "metadata": {},
      "source": [
        "#| echo: false\n",
        "literature_data['year'] = pd.to_numeric(literature_data['year'], errors='coerce')\n",
        "literature_data.dropna(subset=['year'], inplace=True)\n",
        "literature_data['year'] = literature_data['year'].astype(int)\n",
        "\n",
        "# Count the number of papers per year\n",
        "year_counts = literature_data['year'].value_counts().sort_index()\n",
        "\n",
        "# Ensure all years are represented, even if count is 0\n",
        "all_years = range(year_counts.index.min(), year_counts.index.max() + 1)\n",
        "year_counts = year_counts.reindex(all_years, fill_value=0)\n",
        "\n",
        "# Create a horizontal bar chart\n",
        "plt.figure(figsize=(8, 8))\n",
        "bars = plt.barh(year_counts.index, year_counts.values, color='skyblue')\n",
        "plt.xlabel('Number of Papers', color='gray')\n",
        "# plt.ylabel('Year')\n",
        "plt.title('Number of Papers Collected Per Year of Publication', color='gray')\n",
        "\n",
        "# Adding the text labels on the bars\n",
        "for bar in bars:\n",
        "  if bar.get_width() > 0:\n",
        "    plt.text(bar.get_width() + 0.1, bar.get_y() + bar.get_height()/2, \n",
        "             str(int(bar.get_width())), va='center', color='gray', fontsize=8)\n",
        "             \n",
        "plt.gca().xaxis.set_major_locator(MaxNLocator(integer=True))\n",
        "# Set the color of x-axis and y-axis to gray\n",
        "# plt.gca().spines['bottom'].set_color('gray')\n",
        "plt.gca().spines['left'].set_color('lightgray')\n",
        "plt.gca().tick_params(axis='y', colors='gray')\n",
        "\n",
        "# Turn off the top and right spines\n",
        "plt.gca().spines['top'].set_visible(False)\n",
        "plt.gca().spines['right'].set_visible(False)\n",
        "plt.gca().spines['bottom'].set_visible(False)\n",
        "plt.gca().xaxis.set_visible(False)"
      ],
      "id": "a78ecd31",
      "execution_count": null,
      "outputs": []
    },
    {
      "cell_type": "code",
      "metadata": {},
      "source": [
        "#| echo: False\n",
        "literature_data['Conference'] = literature_data['Conference'].replace('Computer Graphics Forum', 'CGF')\n",
        "literature_data['Conference'] = literature_data['Conference'].replace('Information Visualization', 'IV')\n",
        "literature_data['Conference'] = literature_data['Conference'].replace('Graphics Interface', 'GI')\n",
        "\n",
        "conference_counts = literature_data['Conference'].value_counts()\n",
        "conference_counts = conference_counts[conference_counts > 1]\n",
        "\n",
        "# Sort the conferences so that higher values are at the top\n",
        "conference_counts = conference_counts.sort_values(ascending=True)\n",
        "\n",
        "# Create a horizontal bar chart with a categorical colorscheme and adjusted figure size\n",
        "plt.figure(figsize=(6, 8))  # Adjusted figure size\n",
        "bars = plt.barh(conference_counts.index, conference_counts.values, color=sns.color_palette(\"pastel\", len(conference_counts)))\n",
        "\n",
        "# Set title with gray text color\n",
        "plt.title('Number of Papers Collected Per Conference (More than 1 Entry)', color='gray')\n",
        "\n",
        "# Adding the text labels on the bars with gray text color and smaller font size\n",
        "for bar in bars:\n",
        "    plt.text(bar.get_width() + 0.5, bar.get_y() + bar.get_height()/2, \n",
        "             str(int(bar.get_width())), va='center', color='gray', fontsize=10)\n",
        "\n",
        "# Turn off the x-axis, right and top spines, set left spine color to gray\n",
        "plt.gca().xaxis.set_visible(False)\n",
        "plt.gca().spines['left'].set_color('lightgray')\n",
        "plt.gca().spines['right'].set_visible(False)\n",
        "plt.gca().spines['bottom'].set_visible(False)\n",
        "plt.gca().spines['top'].set_visible(False)\n",
        "\n",
        "# Set the color of y-axis ticks to gray\n",
        "plt.gca().tick_params(axis='y', colors='gray')"
      ],
      "id": "ecea45f8",
      "execution_count": null,
      "outputs": []
    },
    {
      "cell_type": "code",
      "metadata": {},
      "source": [
        "#| echo: False\n",
        "# count the total Papers\n",
        "total_papers = literature_data['Conference'].count()\n",
        "print(\"Total papers: \", total_papers)"
      ],
      "id": "ab37ef7d",
      "execution_count": null,
      "outputs": []
    }
  ],
  "metadata": {
    "kernelspec": {
      "name": "python3",
      "language": "python",
      "display_name": "Python 3 (ipykernel)"
    }
  },
  "nbformat": 4,
  "nbformat_minor": 5
}